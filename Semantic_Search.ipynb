{
  "nbformat": 4,
  "nbformat_minor": 0,
  "metadata": {
    "colab": {
      "provenance": [],
      "gpuType": "T4",
      "authorship_tag": "ABX9TyP9YcwE4TUaZexIm4iD3IQ/",
      "include_colab_link": true
    },
    "kernelspec": {
      "name": "python3",
      "display_name": "Python 3"
    },
    "language_info": {
      "name": "python"
    },
    "accelerator": "GPU"
  },
  "cells": [
    {
      "cell_type": "markdown",
      "metadata": {
        "id": "view-in-github",
        "colab_type": "text"
      },
      "source": [
        "<a href=\"https://colab.research.google.com/github/nimra7a/Generative-AI/blob/main/Semantic_Search.ipynb\" target=\"_parent\"><img src=\"https://colab.research.google.com/assets/colab-badge.svg\" alt=\"Open In Colab\"/></a>"
      ]
    },
    {
      "cell_type": "markdown",
      "source": [
        "# **Sementic Search**"
      ],
      "metadata": {
        "id": "4GSb_XGLIVy4"
      }
    },
    {
      "cell_type": "markdown",
      "source": [
        "Install the **Dependcies**"
      ],
      "metadata": {
        "id": "0q4mMXqWHf3r"
      }
    },
    {
      "cell_type": "code",
      "source": [
        "!pip install -qU langchain-huggingface\n"
      ],
      "metadata": {
        "id": "T3NDzuFl__Bk"
      },
      "execution_count": null,
      "outputs": []
    },
    {
      "cell_type": "code",
      "source": [
        "!pip install scikit-learn"
      ],
      "metadata": {
        "colab": {
          "base_uri": "https://localhost:8080/"
        },
        "id": "XokU0BbpA6X_",
        "outputId": "eba4c6c2-0528-48ec-db76-fb789c063ff1"
      },
      "execution_count": null,
      "outputs": [
        {
          "output_type": "stream",
          "name": "stdout",
          "text": [
            "Requirement already satisfied: scikit-learn in /usr/local/lib/python3.11/dist-packages (1.6.1)\n",
            "Requirement already satisfied: numpy>=1.19.5 in /usr/local/lib/python3.11/dist-packages (from scikit-learn) (2.0.2)\n",
            "Requirement already satisfied: scipy>=1.6.0 in /usr/local/lib/python3.11/dist-packages (from scikit-learn) (1.16.1)\n",
            "Requirement already satisfied: joblib>=1.2.0 in /usr/local/lib/python3.11/dist-packages (from scikit-learn) (1.5.1)\n",
            "Requirement already satisfied: threadpoolctl>=3.1.0 in /usr/local/lib/python3.11/dist-packages (from scikit-learn) (3.6.0)\n"
          ]
        }
      ]
    },
    {
      "cell_type": "markdown",
      "source": [
        "**Import Packages**"
      ],
      "metadata": {
        "id": "doxJ-pjVHoBe"
      }
    },
    {
      "cell_type": "code",
      "execution_count": null,
      "metadata": {
        "id": "qdwGFYRE_c4S"
      },
      "outputs": [],
      "source": [
        "from langchain_huggingface import HuggingFaceEmbeddings"
      ]
    },
    {
      "cell_type": "code",
      "source": [
        "from sklearn.metrics.pairwise import cosine_similarity"
      ],
      "metadata": {
        "id": "OiKvlZeTAvH7"
      },
      "execution_count": null,
      "outputs": []
    },
    {
      "cell_type": "code",
      "source": [
        "import numpy as np"
      ],
      "metadata": {
        "id": "1_9HyBtvBG99"
      },
      "execution_count": null,
      "outputs": []
    },
    {
      "cell_type": "markdown",
      "source": [
        "**Hugging Face Model**"
      ],
      "metadata": {
        "id": "Fyto3ebYHtz1"
      }
    },
    {
      "cell_type": "code",
      "source": [
        "embeddings = HuggingFaceEmbeddings(\n",
        "    model_name=\"sentence-transformers/all-MiniLM-L6-v2\")"
      ],
      "metadata": {
        "id": "9BJ4l9x6AFR0"
      },
      "execution_count": null,
      "outputs": []
    },
    {
      "cell_type": "markdown",
      "source": [
        "**Document**"
      ],
      "metadata": {
        "id": "iOZPd4SQH31O"
      }
    },
    {
      "cell_type": "code",
      "source": [
        "doc = [\"1. Cricket has produced many legendary figures over the decades, each leaving their unique mark on the sport. Sachin Tendulkar, known as the “Little Master” from India, is celebrated for his unmatched batting records, including 100 international centuries. His career spanned over two decades, inspiring millions of fans with his dedication, humility, and technical brilliance.\",\n",
        "       \"2. In modern cricket, Babar Azam of Pakistan has emerged as one of the finest batsmen across all formats. Known for his elegant stroke play and remarkable consistency, Babar has quickly risen through the ranks to become the captain of the national team. His ability to adapt to different match situations makes him a key player for Pakistan in both domestic and international tournaments.\",\n",
        "       \"3. Meanwhile, AB de Villiers from South Africa has been regarded as one of the most versatile and innovative cricketers of his generation. Nicknamed “Mr. 360” for his ability to hit the ball to all parts of the ground, de Villiers redefined aggressive batting. Even after his retirement from international cricket, his performances in various T20 leagues continue to excite cricket enthusiasts worldwide.\"]"
      ],
      "metadata": {
        "id": "NpBbMIURBfaE"
      },
      "execution_count": null,
      "outputs": []
    },
    {
      "cell_type": "markdown",
      "source": [
        "**Query**"
      ],
      "metadata": {
        "id": "Bp5_fGIqH6Jn"
      }
    },
    {
      "cell_type": "code",
      "source": [
        "query = \"Who is known as Mr. 360 in cricket?\""
      ],
      "metadata": {
        "id": "_nEAkwotBvsy"
      },
      "execution_count": null,
      "outputs": []
    },
    {
      "cell_type": "markdown",
      "source": [
        "**Embedding Generation**"
      ],
      "metadata": {
        "id": "vBdVit6bH8s1"
      }
    },
    {
      "cell_type": "code",
      "source": [
        "doc_embedding = embeddings.embed_documents(doc)\n",
        "query_embedding = embeddings.embed_query(query)"
      ],
      "metadata": {
        "id": "CxBjtKbkB0sI"
      },
      "execution_count": null,
      "outputs": []
    },
    {
      "cell_type": "markdown",
      "source": [
        "**Similarity Score**"
      ],
      "metadata": {
        "id": "TACbISesIBcQ"
      }
    },
    {
      "cell_type": "code",
      "source": [
        "scores = cosine_similarity([query_embedding], doc_embedding)[0]"
      ],
      "metadata": {
        "id": "66l4pUfhCCOA"
      },
      "execution_count": null,
      "outputs": []
    },
    {
      "cell_type": "code",
      "source": [
        "index, score = sorted(list(enumerate(scores)), key=lambda x: x[1])[-1]"
      ],
      "metadata": {
        "id": "uXNqr7FpCG0w"
      },
      "execution_count": null,
      "outputs": []
    },
    {
      "cell_type": "markdown",
      "source": [
        "**Output**"
      ],
      "metadata": {
        "id": "mtkmIkf1IPNy"
      }
    },
    {
      "cell_type": "code",
      "source": [
        "print(query)"
      ],
      "metadata": {
        "colab": {
          "base_uri": "https://localhost:8080/"
        },
        "id": "5zQkW8JuCPsW",
        "outputId": "a0823c2a-132b-4c2b-8a94-cd7d82330ea0"
      },
      "execution_count": null,
      "outputs": [
        {
          "output_type": "stream",
          "name": "stdout",
          "text": [
            "Who is known as Mr. 360 in cricket?\n"
          ]
        }
      ]
    },
    {
      "cell_type": "code",
      "source": [
        "print(doc[index])"
      ],
      "metadata": {
        "colab": {
          "base_uri": "https://localhost:8080/"
        },
        "id": "2Hil6ww7CR50",
        "outputId": "6dd614e0-70bb-43e4-9c89-889abb91efa1"
      },
      "execution_count": null,
      "outputs": [
        {
          "output_type": "stream",
          "name": "stdout",
          "text": [
            "3. Meanwhile, AB de Villiers from South Africa has been regarded as one of the most versatile and innovative cricketers of his generation. Nicknamed “Mr. 360” for his ability to hit the ball to all parts of the ground, de Villiers redefined aggressive batting. Even after his retirement from international cricket, his performances in various T20 leagues continue to excite cricket enthusiasts worldwide.\n"
          ]
        }
      ]
    },
    {
      "cell_type": "code",
      "source": [
        "print(\"similarity\" , scores)"
      ],
      "metadata": {
        "colab": {
          "base_uri": "https://localhost:8080/"
        },
        "id": "EQPz2IVhDG17",
        "outputId": "5a0781b7-ae6d-49c9-dbba-876a7df7fa2f"
      },
      "execution_count": null,
      "outputs": [
        {
          "output_type": "stream",
          "name": "stdout",
          "text": [
            "similarity [0.55182256 0.49604465 0.75710382]\n"
          ]
        }
      ]
    }
  ]
}